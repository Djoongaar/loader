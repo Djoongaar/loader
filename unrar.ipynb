{
 "cells": [
  {
   "cell_type": "markdown",
   "metadata": {},
   "source": [
    "# Разархивирование файлов"
   ]
  },
  {
   "cell_type": "code",
   "execution_count": 1,
   "metadata": {},
   "outputs": [],
   "source": [
    "import os\n",
    "import re"
   ]
  },
  {
   "cell_type": "code",
   "execution_count": 2,
   "metadata": {},
   "outputs": [],
   "source": [
    "# Получим список папок\n",
    "\n",
    "PATH_TO_STORAGE = '/home/eugene/Projects/loader/storage/docs'\n",
    "\n",
    "\n",
    "class Customer:\n",
    "    \n",
    "    def __init__(self, customer_inn:str = '7826062821'):\n",
    "        self.customer_inn = customer_inn\n",
    "        self.projects_list = [os.path.join(PATH_TO_STORAGE, customer_inn, i) for i in os.listdir(os.path.join(PATH_TO_STORAGE, customer_inn))]\n",
    "        \n",
    "    def __str__(self):\n",
    "        # return f\"<Customer inn {self.customer_inn}, {len(self.projects_list)} projects>\"\n",
    "        return self.projects_list"
   ]
  },
  {
   "cell_type": "code",
   "execution_count": 3,
   "metadata": {},
   "outputs": [],
   "source": [
    "sz = Customer()"
   ]
  },
  {
   "cell_type": "code",
   "execution_count": 4,
   "metadata": {},
   "outputs": [],
   "source": [
    "class Dearchivator:\n",
    "    def __init__(self, path_to_project):\n",
    "        self.archives = sorted([os.path.join(path_to_project, i) \\\n",
    "                         for i in os.listdir(path_to_project) \\\n",
    "                         if i.endswith(('.rar', '.zip', '.7z'))])\n",
    "    def to_unzip(self):\n",
    "        to_unzip = []\n",
    "        unrared = []\n",
    "        for i in self.archives:\n",
    "            pattern = re.compile('.part[0-9]+\\.[rarzip7]+')\n",
    "            if pattern.search(i) and i.split('.part')[0] not in unrared:\n",
    "                # send i to unzipping\n",
    "                to_unzip.append(i)\n",
    "                unrared.append(i.split('.part')[0])\n",
    "            else:\n",
    "                # send i to unzipping\n",
    "                to_unzip.append(i)\n",
    "        return to_unzip\n",
    "    \n",
    "    def __str__(self):\n",
    "        return self.archives"
   ]
  },
  {
   "cell_type": "code",
   "execution_count": 27,
   "metadata": {
    "scrolled": false
   },
   "outputs": [
    {
     "data": {
      "text/plain": [
       "['/home/eugene/Projects/loader/storage/docs/7826062821/0372100009917000119/Приложение № 4 к КД_Проект реконструкции.part01.rar',\n",
       " '/home/eugene/Projects/loader/storage/docs/7826062821/0372100009917000119/Приложение № 4 к КД_Проект реконструкции.part02.rar',\n",
       " '/home/eugene/Projects/loader/storage/docs/7826062821/0372100009917000119/Приложение № 4 к КД_Проект реконструкции.part03.rar',\n",
       " '/home/eugene/Projects/loader/storage/docs/7826062821/0372100009917000119/Приложение № 4 к КД_Проект реконструкции.part04.rar',\n",
       " '/home/eugene/Projects/loader/storage/docs/7826062821/0372100009917000119/Приложение № 4 к КД_Проект реконструкции.part05.rar',\n",
       " '/home/eugene/Projects/loader/storage/docs/7826062821/0372100009917000119/Приложение № 4 к КД_Проект реконструкции.part06.rar',\n",
       " '/home/eugene/Projects/loader/storage/docs/7826062821/0372100009917000119/Приложение № 4 к КД_Проект реконструкции.part07.rar',\n",
       " '/home/eugene/Projects/loader/storage/docs/7826062821/0372100009917000119/Приложение № 4 к КД_Проект реконструкции.part08.rar',\n",
       " '/home/eugene/Projects/loader/storage/docs/7826062821/0372100009917000119/Приложение № 4 к КД_Проект реконструкции.part09.rar',\n",
       " '/home/eugene/Projects/loader/storage/docs/7826062821/0372100009917000119/Приложение № 4 к КД_Проект реконструкции.part10.rar',\n",
       " '/home/eugene/Projects/loader/storage/docs/7826062821/0372100009917000119/Приложение № 4 к КД_Проект реконструкции.part11.rar',\n",
       " '/home/eugene/Projects/loader/storage/docs/7826062821/0372100009917000119/Приложение № 4 к КД_Проект реконструкции.part12.rar',\n",
       " '/home/eugene/Projects/loader/storage/docs/7826062821/0372100009917000119/Приложение № 4 к КД_Проект реконструкции.part13.rar',\n",
       " '/home/eugene/Projects/loader/storage/docs/7826062821/0372100009917000119/Приложение № 4 к КД_Проект реконструкции.part14.rar',\n",
       " '/home/eugene/Projects/loader/storage/docs/7826062821/0372100009917000119/Приложение № 4 к КД_Проект реконструкции.part15.rar',\n",
       " '/home/eugene/Projects/loader/storage/docs/7826062821/0372100009917000119/Приложение № 4 к КД_Проект реконструкции.part16.rar',\n",
       " '/home/eugene/Projects/loader/storage/docs/7826062821/0372100009917000119/Приложение № 4 к КД_Проект реконструкции.part17.rar',\n",
       " '/home/eugene/Projects/loader/storage/docs/7826062821/0372100009917000119/Приложение № 4 к КД_Проект реконструкции.part18.rar',\n",
       " '/home/eugene/Projects/loader/storage/docs/7826062821/0372100009917000119/Приложение № 4 к КД_Проект реконструкции.part19.rar',\n",
       " '/home/eugene/Projects/loader/storage/docs/7826062821/0372100009917000119/Приложение № 4 к КД_Проект реконструкции.part20.rar',\n",
       " '/home/eugene/Projects/loader/storage/docs/7826062821/0372100009917000119/Приложение № 4 к КД_Проект реконструкции.part21.rar',\n",
       " '/home/eugene/Projects/loader/storage/docs/7826062821/0372100009917000119/Приложение № 4 к КД_Проект реконструкции.part22.rar',\n",
       " '/home/eugene/Projects/loader/storage/docs/7826062821/0372100009917000119/Приложение № 4 к КД_Проект реконструкции.part23.rar',\n",
       " '/home/eugene/Projects/loader/storage/docs/7826062821/0372100009917000119/Приложение № 4 к КД_Проект реконструкции_Сметная документация.rar']"
      ]
     },
     "execution_count": 27,
     "metadata": {},
     "output_type": "execute_result"
    }
   ],
   "source": [
    "archives_sz = Dearchivator(sz.__str__()[16])\n",
    "archives_sz.__str__()"
   ]
  },
  {
   "cell_type": "code",
   "execution_count": 28,
   "metadata": {},
   "outputs": [
    {
     "data": {
      "text/plain": [
       "['/home/eugene/Projects/loader/storage/docs/7826062821/0372100009917000119/Приложение № 4 к КД_Проект реконструкции']"
      ]
     },
     "execution_count": 28,
     "metadata": {},
     "output_type": "execute_result"
    }
   ],
   "source": [
    "archives_sz.unzip()"
   ]
  },
  {
   "cell_type": "code",
   "execution_count": null,
   "metadata": {},
   "outputs": [],
   "source": []
  }
 ],
 "metadata": {
  "kernelspec": {
   "display_name": "Python 3",
   "language": "python",
   "name": "python3"
  },
  "language_info": {
   "codemirror_mode": {
    "name": "ipython",
    "version": 3
   },
   "file_extension": ".py",
   "mimetype": "text/x-python",
   "name": "python",
   "nbconvert_exporter": "python",
   "pygments_lexer": "ipython3",
   "version": "3.8.5"
  }
 },
 "nbformat": 4,
 "nbformat_minor": 4
}
