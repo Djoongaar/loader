{
 "cells": [
  {
   "cell_type": "code",
   "execution_count": 1,
   "metadata": {},
   "outputs": [],
   "source": [
    "import shutil"
   ]
  },
  {
   "cell_type": "code",
   "execution_count": 2,
   "metadata": {},
   "outputs": [
    {
     "data": {
      "text/plain": [
       "56"
      ]
     },
     "execution_count": 2,
     "metadata": {},
     "output_type": "execute_result"
    }
   ],
   "source": [
    "files = [\n",
    "    '/home/eugene/Projects/loader/storage/docs/7722765428/0373200557914000331',\n",
    "    '/home/eugene/Projects/loader/storage/docs/7722765428/0173200001419000433',\n",
    "    '/home/eugene/Projects/loader/storage/docs/7722765428/0373200557914000466',\n",
    "    '/home/eugene/Projects/loader/storage/docs/7722765428/0373200557914000291',\n",
    "    '/home/eugene/Projects/loader/storage/docs/7722765428/0373200557914000294',\n",
    "    '/home/eugene/Projects/loader/storage/docs/7722765428/0373200557921000289',\n",
    "    '/home/eugene/Projects/loader/storage/docs/7722765428/0173200001414001377',\n",
    "    '/home/eugene/Projects/loader/storage/docs/7722765428/0373200557914000419',\n",
    "    '/home/eugene/Projects/loader/storage/docs/7722765428/0373200557914000419',\n",
    "    '/home/eugene/Projects/loader/storage/docs/7722765428/0373200557914000465',\n",
    "    '/home/eugene/Projects/loader/storage/docs/7722765428/0373200557915000260',\n",
    "    '/home/eugene/Projects/loader/storage/docs/7722765428/0373200557914000295',\n",
    "    '/home/eugene/Projects/loader/storage/docs/7722765428/0373200557914000366',\n",
    "    '/home/eugene/Projects/loader/storage/docs/7722765428/0373200557914000327',\n",
    "    '/home/eugene/Projects/loader/storage/docs/7722765428/0373200557915000537',\n",
    "    '/home/eugene/Projects/loader/storage/docs/7722765428/0373200557914000330',\n",
    "    '/home/eugene/Projects/loader/storage/docs/7722765428/0373200557916000100',\n",
    "    '/home/eugene/Projects/loader/storage/docs/7722765428/0373200557914000469',\n",
    "    '/home/eugene/Projects/loader/storage/docs/7722765428/0373200557914000471',\n",
    "    '/home/eugene/Projects/loader/storage/docs/7722765428/0373200557914000329',\n",
    "    '/home/eugene/Projects/loader/storage/docs/7722765428/0173200001416001941',\n",
    "    '/home/eugene/Projects/loader/storage/docs/7722765428/0373200557914000395',\n",
    "    '/home/eugene/Projects/loader/storage/docs/7722765428/0373200557920000293',\n",
    "    '/home/eugene/Projects/loader/storage/docs/7722765428/0373200557921000209',\n",
    "    '/home/eugene/Projects/loader/storage/docs/7722765428/0373200557914000475',\n",
    "    '/home/eugene/Projects/loader/storage/docs/7722765428/0373200557916000094',\n",
    "    '/home/eugene/Projects/loader/storage/docs/7722765428/0373200557914000477',\n",
    "    '/home/eugene/Projects/loader/storage/docs/7722765428/0373200557920000256',\n",
    "    '/home/eugene/Projects/loader/storage/docs/7722765428/0373200557914000346',\n",
    "    '/home/eugene/Projects/loader/storage/docs/7722765428/0373200557914000328',\n",
    "    '/home/eugene/Projects/loader/storage/docs/7722765428/0373200557918000327',\n",
    "    '/home/eugene/Projects/loader/storage/docs/7722765428/0373200557917000423',\n",
    "    '/home/eugene/Projects/loader/storage/docs/7722765428/0373200557914000417',\n",
    "    '/home/eugene/Projects/loader/storage/docs/7722765428/0373200557914000367',\n",
    "    '/home/eugene/Projects/loader/storage/docs/7722765428/0373200557914000421',\n",
    "    '/home/eugene/Projects/loader/storage/docs/7722765428/0373200557917000422',\n",
    "    '/home/eugene/Projects/loader/storage/docs/7722765428/0373200557914000296',\n",
    "    '/home/eugene/Projects/loader/storage/docs/7722765428/0373200557920000234',\n",
    "    '/home/eugene/Projects/loader/storage/docs/7722765428/0373200557914000349',\n",
    "    '/home/eugene/Projects/loader/storage/docs/7722765428/0373200557920000245',\n",
    "    '/home/eugene/Projects/loader/storage/docs/7722765428/0373200557914000476',\n",
    "    '/home/eugene/Projects/loader/storage/docs/7722765428/0373200557915000533',\n",
    "    '/home/eugene/Projects/loader/storage/docs/7722765428/0173200001419000412',\n",
    "    '/home/eugene/Projects/loader/storage/docs/7722765428/0373200557914000293',\n",
    "    '/home/eugene/Projects/loader/storage/docs/7722765428/0373200557914000418',\n",
    "    '/home/eugene/Projects/loader/storage/docs/7722765428/0373200557914000297',\n",
    "    '/home/eugene/Projects/loader/storage/docs/7722765428/0373200557920000363',\n",
    "    '/home/eugene/Projects/loader/storage/docs/7722765428/0373200557917000411',\n",
    "    '/home/eugene/Projects/loader/storage/docs/7722765428/0373200557915000541',\n",
    "    '/home/eugene/Projects/loader/storage/docs/7722765428/0373200557914000420',\n",
    "    '/home/eugene/Projects/loader/storage/docs/7722765428/0373200557914000301',\n",
    "    '/home/eugene/Projects/loader/storage/docs/7722765428/0373200557915000183',\n",
    "    '/home/eugene/Projects/loader/storage/docs/7722765428/0373200557917000108',\n",
    "    '/home/eugene/Projects/loader/storage/docs/7722765428/0373200557914000467',\n",
    "    '/home/eugene/Projects/loader/storage/docs/7722765428/0373200557914000474',\n",
    "    '/home/eugene/Projects/loader/storage/docs/7722765428/0173200001414000809'\n",
    "]\n",
    "len(files)"
   ]
  },
  {
   "cell_type": "code",
   "execution_count": 3,
   "metadata": {},
   "outputs": [],
   "source": [
    "for i in files:\n",
    "    shutil.rmtree(i, ignore_errors=True)"
   ]
  },
  {
   "cell_type": "code",
   "execution_count": null,
   "metadata": {},
   "outputs": [],
   "source": []
  }
 ],
 "metadata": {
  "kernelspec": {
   "display_name": "Python 3",
   "language": "python",
   "name": "python3"
  },
  "language_info": {
   "codemirror_mode": {
    "name": "ipython",
    "version": 3
   },
   "file_extension": ".py",
   "mimetype": "text/x-python",
   "name": "python",
   "nbconvert_exporter": "python",
   "pygments_lexer": "ipython3",
   "version": "3.8.5"
  }
 },
 "nbformat": 4,
 "nbformat_minor": 4
}
