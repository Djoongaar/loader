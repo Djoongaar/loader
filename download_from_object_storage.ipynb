{
 "cells": [
  {
   "cell_type": "code",
   "execution_count": 1,
   "metadata": {},
   "outputs": [],
   "source": [
    "import boto3\n",
    "import glob\n",
    "import tqdm"
   ]
  },
  {
   "cell_type": "code",
   "execution_count": 2,
   "metadata": {},
   "outputs": [],
   "source": [
    "s3_resource = boto3.resource(service_name='s3',\n",
    "                             region_name='ru-central1',\n",
    "                             endpoint_url='https://storage.yandexcloud.net',\n",
    "                             aws_access_key_id='QM2SjYCUKftEAz4VSCcW',\n",
    "                             aws_secret_access_key='hmgmfAq8hLXsY3KInSuiud2JUQcuULfoqB3lkMj9')"
   ]
  },
  {
   "cell_type": "code",
   "execution_count": 3,
   "metadata": {
    "scrolled": false
   },
   "outputs": [],
   "source": [
    "a = s3_resource.Bucket(name='issoproduction') "
   ]
  },
  {
   "cell_type": "code",
   "execution_count": 4,
   "metadata": {
    "scrolled": true
   },
   "outputs": [],
   "source": [
    "documents = []\n",
    "\n",
    "for obj in a.objects.all():\n",
    "    link = f\"https://storage.yandexcloud.net/issoproduction/{obj.key}\"\n",
    "    customer, project, name = obj.key.split(\"/\")\n",
    "    documents.append(\n",
    "        {\n",
    "            'link': link,\n",
    "            'customer_inn': customer,\n",
    "            'tender_id': project,\n",
    "            'name': name\n",
    "        }\n",
    "    )"
   ]
  },
  {
   "cell_type": "code",
   "execution_count": 5,
   "metadata": {
    "scrolled": false
   },
   "outputs": [
    {
     "data": {
      "text/plain": [
       "[{'link': 'https://storage.yandexcloud.net/issoproduction/5000001525/0148200005414000386/01__06_1__07__6__08__1-3__09_6-10.pdf',\n",
       "  'customer_inn': '5000001525',\n",
       "  'tender_id': '0148200005414000386',\n",
       "  'name': '01__06_1__07__6__08__1-3__09_6-10.pdf'},\n",
       " {'link': 'https://storage.yandexcloud.net/issoproduction/5000001525/0148200005414000386/02_1.pdf',\n",
       "  'customer_inn': '5000001525',\n",
       "  'tender_id': '0148200005414000386',\n",
       "  'name': '02_1.pdf'},\n",
       " {'link': 'https://storage.yandexcloud.net/issoproduction/5000001525/0148200005414000386/03_1.pdf',\n",
       "  'customer_inn': '5000001525',\n",
       "  'tender_id': '0148200005414000386',\n",
       "  'name': '03_1.pdf'},\n",
       " {'link': 'https://storage.yandexcloud.net/issoproduction/5000001525/0148200005414000386/04_1.pdf',\n",
       "  'customer_inn': '5000001525',\n",
       "  'tender_id': '0148200005414000386',\n",
       "  'name': '04_1.pdf'},\n",
       " {'link': 'https://storage.yandexcloud.net/issoproduction/5000001525/0148200005414000386/05_1.pdf',\n",
       "  'customer_inn': '5000001525',\n",
       "  'tender_id': '0148200005414000386',\n",
       "  'name': '05_1.pdf'}]"
      ]
     },
     "execution_count": 5,
     "metadata": {},
     "output_type": "execute_result"
    }
   ],
   "source": [
    "documents[:5]"
   ]
  },
  {
   "cell_type": "code",
   "execution_count": 6,
   "metadata": {},
   "outputs": [
    {
     "data": {
      "text/plain": [
       "49230"
      ]
     },
     "execution_count": 6,
     "metadata": {},
     "output_type": "execute_result"
    }
   ],
   "source": [
    "len(documents)"
   ]
  },
  {
   "cell_type": "code",
   "execution_count": 7,
   "metadata": {},
   "outputs": [],
   "source": [
    "from contextlib import closing\n",
    "\n",
    "import psycopg2\n",
    "from psycopg2.extras import DictCursor\n",
    "from config import DATABASE, USER, PASSWORD, HOST\n",
    "\n",
    "DATABASE = 'isso_prod'\n",
    "USER = 'postgres'\n",
    "PASSWORD = 'ws3iysiw'\n",
    "HOST = 'localhost'"
   ]
  },
  {
   "cell_type": "code",
   "execution_count": 15,
   "metadata": {},
   "outputs": [],
   "source": [
    "def insert_into_tendersapp_file(data):\n",
    "    with closing(psycopg2.connect(dbname=DATABASE, user=USER, password=PASSWORD, host=HOST)) as conn:\n",
    "        with conn.cursor(cursor_factory=DictCursor) as cursor:\n",
    "            cursor.execute(\n",
    "                f\"\"\"\n",
    "                insert into tendersapp_file \n",
    "                (\n",
    "                filename,\n",
    "                link_to_file,\n",
    "                customer_inn,\n",
    "                tender_id)\n",
    "                values (\n",
    "                '{data['name']}', \n",
    "                '{data['link']}', \n",
    "                '{data['customer_inn']}',\n",
    "                '{data['tender_id']}'\n",
    "                ) \n",
    "                on conflict(id) do nothing;\n",
    "                \"\"\"\n",
    "            )\n",
    "        conn.commit()"
   ]
  },
  {
   "cell_type": "code",
   "execution_count": 16,
   "metadata": {},
   "outputs": [
    {
     "name": "stderr",
     "output_type": "stream",
     "text": [
      "100%|██████████| 49230/49230 [04:42<00:00, 174.23it/s]\n"
     ]
    }
   ],
   "source": [
    "for i in tqdm.tqdm(documents):\n",
    "    insert_into_tendersapp_file(i)"
   ]
  },
  {
   "cell_type": "code",
   "execution_count": null,
   "metadata": {},
   "outputs": [],
   "source": []
  }
 ],
 "metadata": {
  "kernelspec": {
   "display_name": "Python 3",
   "language": "python",
   "name": "python3"
  },
  "language_info": {
   "codemirror_mode": {
    "name": "ipython",
    "version": 3
   },
   "file_extension": ".py",
   "mimetype": "text/x-python",
   "name": "python",
   "nbconvert_exporter": "python",
   "pygments_lexer": "ipython3",
   "version": "3.8.10"
  }
 },
 "nbformat": 4,
 "nbformat_minor": 4
}
