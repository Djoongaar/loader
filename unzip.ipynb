{
 "cells": [
  {
   "cell_type": "markdown",
   "metadata": {},
   "source": [
    "# Разархивирование файлов"
   ]
  },
  {
   "cell_type": "code",
   "execution_count": 1,
   "metadata": {},
   "outputs": [],
   "source": [
    "import os\n",
    "import re\n",
    "from subprocess import check_call\n",
    "from subprocess import CalledProcessError\n",
    "import py7zr"
   ]
  },
  {
   "cell_type": "markdown",
   "metadata": {},
   "source": [
    "### Шаг 1. Прописываю классы разархивации"
   ]
  },
  {
   "cell_type": "code",
   "execution_count": 2,
   "metadata": {},
   "outputs": [],
   "source": [
    "# Получим список папок\n",
    "\n",
    "PATH_TO_STORAGE = '/home/eugene/Projects/loader/storage/docs'\n",
    "\n",
    "\n",
    "class Customer:\n",
    "    \n",
    "    def __init__(self, customer_inn:str = '7722765428'):\n",
    "        self.customer_inn = customer_inn\n",
    "        self.projects_list = [os.path.join(PATH_TO_STORAGE, customer_inn, i) for i in os.listdir(os.path.join(PATH_TO_STORAGE, customer_inn))]\n",
    "        \n",
    "    def __str__(self):\n",
    "        # return f\"<Customer inn {self.customer_inn}, {len(self.projects_list)} projects>\"\n",
    "        return self.projects_list"
   ]
  },
  {
   "cell_type": "code",
   "execution_count": 3,
   "metadata": {},
   "outputs": [],
   "source": [
    "class Dearchivator:\n",
    "    \n",
    "    def __init__(self, path_to_project):\n",
    "        self.path_to_project = path_to_project\n",
    "        self.archives = sorted([os.path.join(self.path_to_project, i) \\\n",
    "                         for i in os.listdir(self.path_to_project) \\\n",
    "                         if i.endswith(('.rar', '.zip', '.7z'))])\n",
    "        self.to_unzip = []\n",
    "        unrared = []\n",
    "        for i in self.archives:\n",
    "            pattern = re.compile('.part[0-9]+\\.[rarzip7]+')\n",
    "            if pattern.search(i):\n",
    "                if i.split('.part')[0] not in unrared:\n",
    "                    # send i to unzipping\n",
    "                    self.to_unzip.append(i)\n",
    "                    unrared.append(i.split('.part')[0])\n",
    "            else:\n",
    "                # send i to unzipping\n",
    "                self.to_unzip.append(i)\n",
    "    \n",
    "    def unzip(self):\n",
    "        for i in self.to_unzip:\n",
    "            if i.endswith('.rar'):\n",
    "                try:\n",
    "                    check_call([\"unrar\",\"e\",\"-o-\", i, self.path_to_project])\n",
    "                except CalledProcessError as cpe:\n",
    "                    print(\"Error on \", self.path_to_project)\n",
    "            if i.endswith('.zip'):\n",
    "                try:\n",
    "                    check_call([\"unzip\", \"-j\", \"-n\", i, \"-d\", self.path_to_project])\n",
    "                except CalledProcessError as cpe:\n",
    "                    print(\"Error on \", self.path_to_project)\n",
    "            if i.endswith('.7z'):\n",
    "                try:\n",
    "                    check_call([\"7z\", \"e\", \"-y\", i, f\"-o{self.path_to_project}\"])\n",
    "                except CalledProcessError as cpe:\n",
    "                    print(\"Error on \", self.path_to_project)\n",
    "\n",
    "        return True\n",
    "    \n",
    "    def _delete_archives(self):\n",
    "        for i in self.archives:\n",
    "            os.remove(i)\n",
    "    \n",
    "    def __str__(self):\n",
    "        return self.archives"
   ]
  },
  {
   "cell_type": "markdown",
   "metadata": {},
   "source": [
    "### Шаг 2. Разархивирую проекты"
   ]
  },
  {
   "cell_type": "code",
   "execution_count": 4,
   "metadata": {},
   "outputs": [
    {
     "name": "stdout",
     "output_type": "stream",
     "text": [
      "['/home/eugene/Projects/loader/storage/docs/7728381587/0173200001420000073', '/home/eugene/Projects/loader/storage/docs/7728381587/0173200001420000711', '/home/eugene/Projects/loader/storage/docs/7728381587/0373200008518000096', '/home/eugene/Projects/loader/storage/docs/7728381587/0173200001420000889', '/home/eugene/Projects/loader/storage/docs/7728381587/0173200001419001944', '/home/eugene/Projects/loader/storage/docs/7728381587/0173200001419000077', '/home/eugene/Projects/loader/storage/docs/7728381587/0173200001420000791', '/home/eugene/Projects/loader/storage/docs/7728381587/0173200001420000345', '/home/eugene/Projects/loader/storage/docs/7728381587/0173200001420001275', '/home/eugene/Projects/loader/storage/docs/7728381587/0173200001418000707']\n"
     ]
    },
    {
     "data": {
      "text/plain": [
       "93"
      ]
     },
     "execution_count": 4,
     "metadata": {},
     "output_type": "execute_result"
    }
   ],
   "source": [
    "# Нахожу все папку Заказчика и все проекты ы ней\n",
    "\n",
    "customer_inn = '7728381587'\n",
    "customer = Customer(customer_inn=customer_inn)\n",
    "customers_projects = customer.__str__()\n",
    "\n",
    "# Первые 10 из них\n",
    "print(customers_projects[:10])\n",
    "\n",
    "# Посмотрим сколько всего их\n",
    "len(customers_projects)"
   ]
  },
  {
   "cell_type": "code",
   "execution_count": null,
   "metadata": {
    "scrolled": false
   },
   "outputs": [],
   "source": [
    "for i in customers_projects:\n",
    "    dearchivator = Dearchivator(i)\n",
    "    if dearchivator.unzip():\n",
    "        dearchivator._delete_archives()"
   ]
  },
  {
   "cell_type": "code",
   "execution_count": null,
   "metadata": {},
   "outputs": [],
   "source": []
  },
  {
   "cell_type": "code",
   "execution_count": null,
   "metadata": {},
   "outputs": [],
   "source": []
  }
 ],
 "metadata": {
  "kernelspec": {
   "display_name": "Python 3",
   "language": "python",
   "name": "python3"
  },
  "language_info": {
   "codemirror_mode": {
    "name": "ipython",
    "version": 3
   },
   "file_extension": ".py",
   "mimetype": "text/x-python",
   "name": "python",
   "nbconvert_exporter": "python",
   "pygments_lexer": "ipython3",
   "version": "3.8.5"
  }
 },
 "nbformat": 4,
 "nbformat_minor": 4
}
