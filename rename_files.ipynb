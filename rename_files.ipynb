{
 "cells": [
  {
   "cell_type": "markdown",
   "metadata": {},
   "source": [
    "# Разархивирование файлов"
   ]
  },
  {
   "cell_type": "code",
   "execution_count": 1,
   "metadata": {},
   "outputs": [],
   "source": [
    "import os\n",
    "import re\n",
    "import glob"
   ]
  },
  {
   "cell_type": "markdown",
   "metadata": {},
   "source": [
    "### Шаг 1. Получаю список документов Гормоста"
   ]
  },
  {
   "cell_type": "code",
   "execution_count": 2,
   "metadata": {},
   "outputs": [
    {
     "name": "stdout",
     "output_type": "stream",
     "text": [
      "0\n"
     ]
    },
    {
     "data": {
      "text/plain": [
       "[]"
      ]
     },
     "execution_count": 2,
     "metadata": {},
     "output_type": "execute_result"
    }
   ],
   "source": [
    "# Получим список файлов\n",
    "\n",
    "PATH_TO_STORAGE = '/home/eugene/Projects/loader/storage/docs/7714125897'\n",
    "\n",
    "path_to_files = glob.glob(f'{PATH_TO_STORAGE}/*/*')\n",
    "\n",
    "# Сколько их там?\n",
    "print(len(path_to_files))\n",
    "\n",
    "# Как выглядят?\n",
    "path_to_files"
   ]
  },
  {
   "cell_type": "code",
   "execution_count": 3,
   "metadata": {},
   "outputs": [],
   "source": [
    "import shutil\n",
    "\n",
    "pattern = r'[\\(\\)\\,\\\"\\'\\«\\»\\/ ]'\n",
    "for i in path_to_files:\n",
    "    if i.endswith(('.pdf', '.PDF', '.dwg', '.DWG', '.jpg', '.jpeg', '.JPG', '.JPEG')):\n",
    "        try:\n",
    "            old_name = i\n",
    "            new_name = re.sub(pattern, '_', old_name)\n",
    "            os.rename(old_name, new_name)\n",
    "        except OSError as exc:\n",
    "            if exc.errno == 36:\n",
    "                old_name = i\n",
    "                new_name = re.sub(pattern, '', old_name)\n",
    "                os.rename(old_name, new_name)\n",
    "            else:\n",
    "                raise  # re-raise previously caught exception\n",
    "    else:\n",
    "        try:\n",
    "            os.remove(i)\n",
    "        except IsADirectoryError:\n",
    "            shutil.rmtree(i, ignore_errors=True)"
   ]
  },
  {
   "cell_type": "code",
   "execution_count": null,
   "metadata": {},
   "outputs": [],
   "source": [
    "# 23066 объектов\n",
    "# 8 080 объектов, всего 29,1 GB"
   ]
  }
 ],
 "metadata": {
  "kernelspec": {
   "display_name": "Python 3",
   "language": "python",
   "name": "python3"
  },
  "language_info": {
   "codemirror_mode": {
    "name": "ipython",
    "version": 3
   },
   "file_extension": ".py",
   "mimetype": "text/x-python",
   "name": "python",
   "nbconvert_exporter": "python",
   "pygments_lexer": "ipython3",
   "version": "3.8.5"
  }
 },
 "nbformat": 4,
 "nbformat_minor": 4
}
